{
 "cells": [
  {
   "cell_type": "code",
   "execution_count": 1,
   "metadata": {
    "ExecuteTime": {
     "end_time": "2019-03-04T12:33:54.971046Z",
     "start_time": "2019-03-04T12:33:52.202423Z"
    },
    "scrolled": false,
    "tags": [
     "imports"
    ]
   },
   "outputs": [
    {
     "name": "stderr",
     "output_type": "stream",
     "text": [
      "C:\\Users\\kocherlp\\AppData\\Local\\Continuum\\anaconda3\\lib\\site-packages\\fuzzywuzzy\\fuzz.py:11: UserWarning: Using slow pure-python SequenceMatcher. Install python-Levenshtein to remove this warning\n",
      "  warnings.warn('Using slow pure-python SequenceMatcher. Install python-Levenshtein to remove this warning')\n",
      "[nltk_data] Downloading package stopwords to\n",
      "[nltk_data]     C:\\Users\\kocherlp\\AppData\\Roaming\\nltk_data...\n",
      "[nltk_data]   Package stopwords is already up-to-date!\n"
     ]
    }
   ],
   "source": [
    "import os\n",
    "# Data handling\n",
    "import pandas as pd\n",
    "from ipywidgets import interact, interactive, fixed, interact_manual\n",
    "import ipywidgets as widgets\n",
    "from glob import glob\n",
    "from bs4.element import Comment\n",
    "from bs4 import BeautifulSoup\n",
    "\n",
    "# fuzzy text matching\n",
    "from fuzzywuzzy import fuzz\n",
    "from fuzzywuzzy import process\n",
    "\n",
    "# nlp tools\n",
    "import nltk\n",
    "nltk.download('stopwords')\n",
    "from nltk.corpus import stopwords\n",
    "import re\n",
    "\n",
    "# Doc2vec modules\n",
    "import gensim\n",
    "from gensim.models import doc2vec\n",
    "from gensim.utils import keep_vocab_item\n",
    "# For tensorboard projections\n",
    "#from tfmodel import Project_Model\n",
    "\n"
   ]
  },
  {
   "cell_type": "code",
   "execution_count": 2,
   "metadata": {},
   "outputs": [],
   "source": [
    "!pip freeze > requirements.txt"
   ]
  },
  {
   "cell_type": "markdown",
   "metadata": {},
   "source": [
    "### Todo:\n",
    "* Predict 10 closest KBs to current KB\n",
    "* Translate Non english KB articles"
   ]
  },
  {
   "cell_type": "code",
   "execution_count": 4,
   "metadata": {},
   "outputs": [],
   "source": [
    "#load model\n",
    "model = doc2vec.Doc2Vec.load('Models/90.1.model')"
   ]
  },
  {
   "cell_type": "code",
   "execution_count": 5,
   "metadata": {
    "tags": [
     "stopwords"
    ]
   },
   "outputs": [
    {
     "data": {
      "text/plain": [
       "[None, None, None, None, None]"
      ]
     },
     "execution_count": 5,
     "metadata": {},
     "output_type": "execute_result"
    }
   ],
   "source": [
    "stops = set(stopwords.words(\"english\"))\n",
    "stops.remove('how')\n",
    "stops.remove('to')\n",
    "morestops = ['the', 'in', 'bms', 'com', 'kb']\n",
    "[stops.add(word) for word in morestops]"
   ]
  },
  {
   "cell_type": "code",
   "execution_count": 6,
   "metadata": {
    "ExecuteTime": {
     "end_time": "2019-03-04T12:33:55.024212Z",
     "start_time": "2019-03-04T12:33:55.018212Z"
    },
    "tags": [
     "settings"
    ]
   },
   "outputs": [],
   "source": [
    "pd.set_option('display.max_columns', 500)"
   ]
  },
  {
   "cell_type": "markdown",
   "metadata": {},
   "source": [
    "Import data with utf-8 encoding"
   ]
  },
  {
   "cell_type": "code",
   "execution_count": 8,
   "metadata": {
    "ExecuteTime": {
     "end_time": "2019-03-04T12:56:53.869270Z",
     "start_time": "2019-03-04T12:56:52.324475Z"
    }
   },
   "outputs": [],
   "source": [
    "#knowledge = pd.read_excel(\"Data/KB_en_html_body.xlsx\", encoding='utf-8')\n",
    "knowledge = pd.read_excel(\"kb_knowledge_Published_IT ONLY.xlsx\", encoding='utf-8')\n",
    "KB_list = pd.read_excel(\"KB List.xlsx\", encoding='utf-8')"
   ]
  },
  {
   "cell_type": "markdown",
   "metadata": {},
   "source": [
    "### Map of KB numbers to Article titles"
   ]
  },
  {
   "cell_type": "code",
   "execution_count": 9,
   "metadata": {
    "ExecuteTime": {
     "end_time": "2019-03-04T12:42:43.792930Z",
     "start_time": "2019-03-04T12:42:34.319163Z"
    }
   },
   "outputs": [],
   "source": [
    "kb_map = {}\n",
    "for row in KB_list.iterrows():\n",
    "    kb_map[row[1].number] = row[1].short_description\n",
    "    \n",
    "def kb_mapper(kb_num):\n",
    "    try:        \n",
    "        return kb_map[kb_num]\n",
    "    except Exception:\n",
    "        return 'NaN'"
   ]
  },
  {
   "cell_type": "markdown",
   "metadata": {},
   "source": [
    "# Cleaning the KB article data"
   ]
  },
  {
   "cell_type": "markdown",
   "metadata": {},
   "source": [
    "Many of the non-native english author groups have KBs in other languages, we can deal with this later by translating the documents into english but for now we'll exlude these articles so we can focus on the accuracy of our model."
   ]
  },
  {
   "cell_type": "code",
   "execution_count": 10,
   "metadata": {
    "ExecuteTime": {
     "end_time": "2019-03-04T12:56:55.956498Z",
     "start_time": "2019-03-04T12:56:55.947502Z"
    }
   },
   "outputs": [],
   "source": [
    "knowledge_trim = knowledge[['Number','Short description', 'Meta', 'Article body', \"Author Group\", \"Configuration Item\"]]\n",
    "knowledge_trim = knowledge_trim[~knowledge[\"Author Group\"].isin([\"SERVICE DESK FIELD APAC\", \n",
    "                                                                 \"CS APPS AND SYSTEMS ERP AS/JPN\",\n",
    "                                                                 \"SERVICE DESK ACN SAP SUPPORT\", \n",
    "                                                                 \"GBO CTP GPO TE\",\n",
    "                                                                 \"APP SUPPORT BRM FIELD CHINA\"])]\n",
    "knowledge_trim.columns = ['kb_number', 'title', 'tag', 'text', 'author_group', 'CI']"
   ]
  },
  {
   "cell_type": "markdown",
   "metadata": {},
   "source": [
    "Removing related articles from these author groups in our test set"
   ]
  },
  {
   "cell_type": "code",
   "execution_count": 11,
   "metadata": {
    "ExecuteTime": {
     "end_time": "2019-03-04T12:56:56.938896Z",
     "start_time": "2019-03-04T12:56:56.924895Z"
    }
   },
   "outputs": [],
   "source": [
    "df_copy = knowledge_trim.copy()\n",
    "df_copy.dropna(inplace=True)\n",
    "df_copy.reset_index(drop=True, inplace=True)\n",
    "pd.set_option('max_colwidth',999)"
   ]
  },
  {
   "cell_type": "code",
   "execution_count": 12,
   "metadata": {
    "ExecuteTime": {
     "end_time": "2019-03-04T12:57:15.226260Z",
     "start_time": "2019-03-04T12:56:57.854416Z"
    },
    "code_folding": [
     2,
     9,
     27,
     46
    ],
    "scrolled": true
   },
   "outputs": [
    {
     "data": {
      "text/html": [
       "<div>\n",
       "<style scoped>\n",
       "    .dataframe tbody tr th:only-of-type {\n",
       "        vertical-align: middle;\n",
       "    }\n",
       "\n",
       "    .dataframe tbody tr th {\n",
       "        vertical-align: top;\n",
       "    }\n",
       "\n",
       "    .dataframe thead th {\n",
       "        text-align: right;\n",
       "    }\n",
       "</style>\n",
       "<table border=\"1\" class=\"dataframe\">\n",
       "  <thead>\n",
       "    <tr style=\"text-align: right;\">\n",
       "      <th></th>\n",
       "      <th>kb_number</th>\n",
       "      <th>title</th>\n",
       "      <th>tag</th>\n",
       "      <th>text</th>\n",
       "      <th>author_group</th>\n",
       "      <th>CI</th>\n",
       "      <th>title_parsed</th>\n",
       "    </tr>\n",
       "  </thead>\n",
       "  <tbody>\n",
       "    <tr>\n",
       "      <th>1835</th>\n",
       "      <td>KB0010082</td>\n",
       "      <td>CS ELN - Object required error during signing</td>\n",
       "      <td>[cambridgesoft, eln, electronic, laboratory, notebook, notebook, enotebook, close, and, sign]</td>\n",
       "      <td>[introduction, close, sign, electronic, lab, notebook, eln, operation, following, error, may, occur, error, choosing, command, sorry, object, required, details, error, indicates, one, sections, experiment, attempting, to, closed, signed, contains, digital, signature, pdf, result, signed, pdf, exported, imported, eln, experiment, note, error, occurs, pdf, containing, digital, signature, one, signature, author, author, witness, digital, signature, error, occur, close, sign, digital, signatures, stripped, rendered, pdf, workaround, to, initially, remove, digital, signature, page, pdf, section, experiment, done, exporting, pdf, using, extract, pages, command, acrobat, professional, selecting, last, digital, signature, page, to, extract, importing, extracted, pdf, back, eln, experiment, pdf, render, without, object, required, error]</td>\n",
       "      <td>APP SUPPORT RESEARCH ENOTEBOOK</td>\n",
       "      <td>Chemistry Research Electronic Laboratory  Notebook</td>\n",
       "      <td>[cs, eln, object, required, error, during, signing]</td>\n",
       "    </tr>\n",
       "  </tbody>\n",
       "</table>\n",
       "</div>"
      ],
      "text/plain": [
       "      kb_number                                          title  \\\n",
       "1835  KB0010082  CS ELN - Object required error during signing   \n",
       "\n",
       "                                                                                                tag  \\\n",
       "1835  [cambridgesoft, eln, electronic, laboratory, notebook, notebook, enotebook, close, and, sign]   \n",
       "\n",
       "                                                                                                                                                                                                                                                                                                                                                                                                                                                                                                                                                                                                                                                                                                                                                                                                                                                                         text  \\\n",
       "1835  [introduction, close, sign, electronic, lab, notebook, eln, operation, following, error, may, occur, error, choosing, command, sorry, object, required, details, error, indicates, one, sections, experiment, attempting, to, closed, signed, contains, digital, signature, pdf, result, signed, pdf, exported, imported, eln, experiment, note, error, occurs, pdf, containing, digital, signature, one, signature, author, author, witness, digital, signature, error, occur, close, sign, digital, signatures, stripped, rendered, pdf, workaround, to, initially, remove, digital, signature, page, pdf, section, experiment, done, exporting, pdf, using, extract, pages, command, acrobat, professional, selecting, last, digital, signature, page, to, extract, importing, extracted, pdf, back, eln, experiment, pdf, render, without, object, required, error]   \n",
       "\n",
       "                        author_group  \\\n",
       "1835  APP SUPPORT RESEARCH ENOTEBOOK   \n",
       "\n",
       "                                                      CI  \\\n",
       "1835  Chemistry Research Electronic Laboratory  Notebook   \n",
       "\n",
       "                                             title_parsed  \n",
       "1835  [cs, eln, object, required, error, during, signing]  "
      ]
     },
     "execution_count": 12,
     "metadata": {},
     "output_type": "execute_result"
    }
   ],
   "source": [
    "df_copy1 = df_copy.copy()\n",
    "\n",
    "def tag_visible(element):\n",
    "    if element.parent.name in ['style', 'script', 'head', 'title', 'meta', '[document]']:\n",
    "        return False\n",
    "    if isinstance(element, Comment):\n",
    "        return False\n",
    "    return True\n",
    "\n",
    "def tag_parse(text):    \n",
    "    soup = BeautifulSoup(str(text), 'html.parser')\n",
    "    #parse \\n\n",
    "    text = soup.get_text().replace('\\\\n',' ')\n",
    "    text = text.replace('$','')\n",
    "    text = text.replace('-', ' ')    \n",
    "    text = text.replace('_',' ')\n",
    "    #PH seems like phone number\n",
    "    text = text.replace('PH', '')\n",
    "    #Remove Non letters\n",
    "    text = re.sub(\"[^a-zA-Z]\", \" \", text)\n",
    "    # Convert words to lower case and split them\n",
    "    # Remove stopwords\n",
    "    words = text.lower().split()\n",
    "    words = [word for word in words if word not in morestops]\n",
    "    words = [word for word in words if len(word) > 1]\n",
    "    return words\n",
    "\n",
    "def text_parse(text):    \n",
    "    soup = BeautifulSoup(text, 'html.parser')\n",
    "    #parse \n",
    "    texts = soup.findAll(text=True)#.replace('\\n','').replace('\\r','')\n",
    "    text = filter(tag_visible, texts)\n",
    "    text = [w for w in text if w not in ['\\n','\\xa0', 'Description', 'References and Additional Resources', 'description']]\n",
    "    text = u\" \".join(t.strip() for t in text)\n",
    "    text = text.replace('\\xa0','').replace('\\r','')\n",
    "    # removing html links\n",
    "    text = re.sub(r'\\w+:\\/{2}[\\d\\w-]+(\\.[\\d\\w-]+)*(?:(?:\\/[^\\s/]*))*', '', text)\n",
    "    #Remove Non letters\n",
    "    text = re.sub(\"[^a-zA-Z]\", \" \", text)\n",
    "    # Convert words to lower case and split them\n",
    "    words = text.lower().split()\n",
    "    # Remove stopwords\n",
    "    words = [word for word in words if word not in stops]\n",
    "    words = [word for word in words if len(word) > 1]\n",
    "    return words\n",
    "\n",
    "def docfix(text):\n",
    "    '''For parsing configuration items'''\n",
    "    text = text.replace('-', '')\n",
    "    text = text.replace('  ','')\n",
    "    text = text.replace(' ','_')\n",
    "    return text\n",
    "\n",
    "#Parse text collumn of bad values\n",
    "df_copy1['text'] = df_copy1['text'].map(text_parse)\n",
    "df_copy1['tag'] = df_copy1['tag'].map(tag_parse)\n",
    "df_copy1['title_parsed'] = df_copy1['title'].map(tag_parse)\n",
    "df_copy1.sample(1)"
   ]
  },
  {
   "cell_type": "code",
   "execution_count": 13,
   "metadata": {},
   "outputs": [],
   "source": [
    "def predict(text, return_rel=False, model=model):\n",
    "    \"\"\"\n",
    "    Infers the vectors of a list of tokens then finds the documents with the closest vectors\n",
    "\n",
    "    Parameters\n",
    "    ----------\n",
    "    text: string of text you'd like to run a knowledge article prediction on\n",
    "    return_rel: bool, default False\n",
    "        returns either first relevent article or 10 relavent articles. default is first.\n",
    "    model: The model you're predicting from.\n",
    "\n",
    "    \"\"\"\n",
    "    tokens = text\n",
    "    new_vector = model.infer_vector(tokens)\n",
    "    similar = model.docvecs.most_similar([new_vector])\n",
    "    if return_rel == False:\n",
    "        similar_articles = [item[0] for item in similar]        \n",
    "        return similar_articles\n",
    "    else:\n",
    "        #print(tokens)\n",
    "        similar_articles = [item for item in similar]        \n",
    "        return similar_articles"
   ]
  },
  {
   "cell_type": "code",
   "execution_count": 14,
   "metadata": {},
   "outputs": [],
   "source": [
    "parsed_articles = df_copy1.copy()\n",
    "pd.set_option('display.max_colwidth', -1)\n",
    "\n",
    "def kb_predict(similar_to):\n",
    "    tokens = predict(similar_to, return_rel=True, model=model)\n",
    "    frame = pd.DataFrame(tokens, columns=[\"KB\", \"% Related\"])\n",
    "    frame[\"KB Number\"] = frame[\"KB\"]\n",
    "    frame[\"KB\"] = '=HYPERLINK(\"https://bmsprod.service-now.com/nav_to.do?uri=%2Fkb_view.do%3Fsysparm_article%3D'+ frame[\"KB\"] +'%26sysparm_stack%3D%26sysparm_view%3D\",\"'+ frame[\"KB\"].map(kb_mapper) +'\")'\n",
    "    return frame"
   ]
  },
  {
   "cell_type": "code",
   "execution_count": 15,
   "metadata": {},
   "outputs": [],
   "source": [
    "for key, row in parsed_articles[parsed_articles['CI'].isin(['Dynamic Security Code'])].iterrows():    \n",
    "    result_frame = kb_predict(row['text'])\n",
    "    break"
   ]
  },
  {
   "cell_type": "code",
   "execution_count": 16,
   "metadata": {},
   "outputs": [
    {
     "data": {
      "text/plain": [
       "0.7292926907539368"
      ]
     },
     "execution_count": 16,
     "metadata": {},
     "output_type": "execute_result"
    }
   ],
   "source": [
    "result_frame.iloc[0][\"% Related\"]"
   ]
  },
  {
   "cell_type": "code",
   "execution_count": 17,
   "metadata": {},
   "outputs": [
    {
     "data": {
      "text/plain": [
       "0.7292926907539368"
      ]
     },
     "execution_count": 17,
     "metadata": {},
     "output_type": "execute_result"
    }
   ],
   "source": [
    "result_frame.iloc[0][\"% Related\"]"
   ]
  },
  {
   "cell_type": "code",
   "execution_count": 18,
   "metadata": {},
   "outputs": [
    {
     "data": {
      "text/html": [
       "<div>\n",
       "<style scoped>\n",
       "    .dataframe tbody tr th:only-of-type {\n",
       "        vertical-align: middle;\n",
       "    }\n",
       "\n",
       "    .dataframe tbody tr th {\n",
       "        vertical-align: top;\n",
       "    }\n",
       "\n",
       "    .dataframe thead th {\n",
       "        text-align: right;\n",
       "    }\n",
       "</style>\n",
       "<table border=\"1\" class=\"dataframe\">\n",
       "  <thead>\n",
       "    <tr style=\"text-align: right;\">\n",
       "      <th></th>\n",
       "      <th>KB</th>\n",
       "      <th>% Related</th>\n",
       "      <th>KB Number</th>\n",
       "    </tr>\n",
       "  </thead>\n",
       "  <tbody>\n",
       "    <tr>\n",
       "      <th>0</th>\n",
       "      <td>=HYPERLINK(\"https://bmsprod.service-now.com/nav_to.do?uri=%2Fkb_view.do%3Fsysparm_article%3DKB0020625%26sysparm_stack%3D%26sysparm_view%3D\",\"DYNAMIC SECURITY CODE: User requests temporary access - a temporary one time password (TOTP)\")</td>\n",
       "      <td>0.729293</td>\n",
       "      <td>KB0020625</td>\n",
       "    </tr>\n",
       "    <tr>\n",
       "      <th>1</th>\n",
       "      <td>=HYPERLINK(\"https://bmsprod.service-now.com/nav_to.do?uri=%2Fkb_view.do%3Fsysparm_article%3DKB0020830%26sysparm_stack%3D%26sysparm_view%3D\",\"DYNAMIC SECURITY CODE: Unlock a Dynamic Security Code Device User \")</td>\n",
       "      <td>0.463019</td>\n",
       "      <td>KB0020830</td>\n",
       "    </tr>\n",
       "    <tr>\n",
       "      <th>2</th>\n",
       "      <td>=HYPERLINK(\"https://bmsprod.service-now.com/nav_to.do?uri=%2Fkb_view.do%3Fsysparm_article%3DKB0020641%26sysparm_stack%3D%26sysparm_view%3D\",\"DYNAMIC SECURITY CODE: User is getting an error when registering or activating a token\")</td>\n",
       "      <td>0.400782</td>\n",
       "      <td>KB0020641</td>\n",
       "    </tr>\n",
       "    <tr>\n",
       "      <th>3</th>\n",
       "      <td>=HYPERLINK(\"https://bmsprod.service-now.com/nav_to.do?uri=%2Fkb_view.do%3Fsysparm_article%3DKB0013155%26sysparm_stack%3D%26sysparm_view%3D\",\"DYNAMIC SECURITY CODE: Can't log in to VPN troubleshooting\")</td>\n",
       "      <td>0.396384</td>\n",
       "      <td>KB0013155</td>\n",
       "    </tr>\n",
       "    <tr>\n",
       "      <th>4</th>\n",
       "      <td>=HYPERLINK(\"https://bmsprod.service-now.com/nav_to.do?uri=%2Fkb_view.do%3Fsysparm_article%3DKB0020810%26sysparm_stack%3D%26sysparm_view%3D\",\"DYNAMIC SECURITY CODE: User has found their Dynamic Security Code device and cannot register it\")</td>\n",
       "      <td>0.378205</td>\n",
       "      <td>KB0020810</td>\n",
       "    </tr>\n",
       "    <tr>\n",
       "      <th>5</th>\n",
       "      <td>=HYPERLINK(\"https://bmsprod.service-now.com/nav_to.do?uri=%2Fkb_view.do%3Fsysparm_article%3DKB0020854%26sysparm_stack%3D%26sysparm_view%3D\",\"How to assist a user who lost or misplaced their Dynamic Security Code Device\")</td>\n",
       "      <td>0.367072</td>\n",
       "      <td>KB0020854</td>\n",
       "    </tr>\n",
       "    <tr>\n",
       "      <th>6</th>\n",
       "      <td>=HYPERLINK(\"https://bmsprod.service-now.com/nav_to.do?uri=%2Fkb_view.do%3Fsysparm_article%3DKB0026167%26sysparm_stack%3D%26sysparm_view%3D\",\"DYNAMIC SECURITY CODE: User needs assistance with registering or activating a device\")</td>\n",
       "      <td>0.345839</td>\n",
       "      <td>KB0026167</td>\n",
       "    </tr>\n",
       "    <tr>\n",
       "      <th>7</th>\n",
       "      <td>=HYPERLINK(\"https://bmsprod.service-now.com/nav_to.do?uri=%2Fkb_view.do%3Fsysparm_article%3DKB0015217%26sysparm_stack%3D%26sysparm_view%3D\",\"DYNAMIC SECURITY CODE: Unable to log in to an app that uses Dynamic Security Code for authentication \")</td>\n",
       "      <td>0.338661</td>\n",
       "      <td>KB0015217</td>\n",
       "    </tr>\n",
       "    <tr>\n",
       "      <th>8</th>\n",
       "      <td>=HYPERLINK(\"https://bmsprod.service-now.com/nav_to.do?uri=%2Fkb_view.do%3Fsysparm_article%3DKB0020806%26sysparm_stack%3D%26sysparm_view%3D\",\"DYNAMIC SECURITY CODE: eSetup request for a DSC device/VPN access awaiting approval\")</td>\n",
       "      <td>0.327990</td>\n",
       "      <td>KB0020806</td>\n",
       "    </tr>\n",
       "    <tr>\n",
       "      <th>9</th>\n",
       "      <td>=HYPERLINK(\"https://bmsprod.service-now.com/nav_to.do?uri=%2Fkb_view.do%3Fsysparm_article%3DKB0020631%26sysparm_stack%3D%26sysparm_view%3D\",\"DYNAMIC SECURITY CODE: List of Symantec reason codes \")</td>\n",
       "      <td>0.307011</td>\n",
       "      <td>KB0020631</td>\n",
       "    </tr>\n",
       "  </tbody>\n",
       "</table>\n",
       "</div>"
      ],
      "text/plain": [
       "                                                                                                                                                                                                                                                     KB  \\\n",
       "0  =HYPERLINK(\"https://bmsprod.service-now.com/nav_to.do?uri=%2Fkb_view.do%3Fsysparm_article%3DKB0020625%26sysparm_stack%3D%26sysparm_view%3D\",\"DYNAMIC SECURITY CODE: User requests temporary access - a temporary one time password (TOTP)\")            \n",
       "1  =HYPERLINK(\"https://bmsprod.service-now.com/nav_to.do?uri=%2Fkb_view.do%3Fsysparm_article%3DKB0020830%26sysparm_stack%3D%26sysparm_view%3D\",\"DYNAMIC SECURITY CODE: Unlock a Dynamic Security Code Device User \")                                      \n",
       "2  =HYPERLINK(\"https://bmsprod.service-now.com/nav_to.do?uri=%2Fkb_view.do%3Fsysparm_article%3DKB0020641%26sysparm_stack%3D%26sysparm_view%3D\",\"DYNAMIC SECURITY CODE: User is getting an error when registering or activating a token\")                  \n",
       "3  =HYPERLINK(\"https://bmsprod.service-now.com/nav_to.do?uri=%2Fkb_view.do%3Fsysparm_article%3DKB0013155%26sysparm_stack%3D%26sysparm_view%3D\",\"DYNAMIC SECURITY CODE: Can't log in to VPN troubleshooting\")                                              \n",
       "4  =HYPERLINK(\"https://bmsprod.service-now.com/nav_to.do?uri=%2Fkb_view.do%3Fsysparm_article%3DKB0020810%26sysparm_stack%3D%26sysparm_view%3D\",\"DYNAMIC SECURITY CODE: User has found their Dynamic Security Code device and cannot register it\")         \n",
       "5  =HYPERLINK(\"https://bmsprod.service-now.com/nav_to.do?uri=%2Fkb_view.do%3Fsysparm_article%3DKB0020854%26sysparm_stack%3D%26sysparm_view%3D\",\"How to assist a user who lost or misplaced their Dynamic Security Code Device\")                           \n",
       "6  =HYPERLINK(\"https://bmsprod.service-now.com/nav_to.do?uri=%2Fkb_view.do%3Fsysparm_article%3DKB0026167%26sysparm_stack%3D%26sysparm_view%3D\",\"DYNAMIC SECURITY CODE: User needs assistance with registering or activating a device\")                    \n",
       "7  =HYPERLINK(\"https://bmsprod.service-now.com/nav_to.do?uri=%2Fkb_view.do%3Fsysparm_article%3DKB0015217%26sysparm_stack%3D%26sysparm_view%3D\",\"DYNAMIC SECURITY CODE: Unable to log in to an app that uses Dynamic Security Code for authentication \")   \n",
       "8  =HYPERLINK(\"https://bmsprod.service-now.com/nav_to.do?uri=%2Fkb_view.do%3Fsysparm_article%3DKB0020806%26sysparm_stack%3D%26sysparm_view%3D\",\"DYNAMIC SECURITY CODE: eSetup request for a DSC device/VPN access awaiting approval\")                     \n",
       "9  =HYPERLINK(\"https://bmsprod.service-now.com/nav_to.do?uri=%2Fkb_view.do%3Fsysparm_article%3DKB0020631%26sysparm_stack%3D%26sysparm_view%3D\",\"DYNAMIC SECURITY CODE: List of Symantec reason codes \")                                                   \n",
       "\n",
       "   % Related  KB Number  \n",
       "0  0.729293   KB0020625  \n",
       "1  0.463019   KB0020830  \n",
       "2  0.400782   KB0020641  \n",
       "3  0.396384   KB0013155  \n",
       "4  0.378205   KB0020810  \n",
       "5  0.367072   KB0020854  \n",
       "6  0.345839   KB0026167  \n",
       "7  0.338661   KB0015217  \n",
       "8  0.327990   KB0020806  \n",
       "9  0.307011   KB0020631  "
      ]
     },
     "execution_count": 18,
     "metadata": {},
     "output_type": "execute_result"
    }
   ],
   "source": [
    "result_frame[result_frame[\"% Related\"] <= result_frame.iloc[0][\"% Related\"]]"
   ]
  },
  {
   "cell_type": "code",
   "execution_count": 19,
   "metadata": {},
   "outputs": [
    {
     "data": {
      "text/plain": [
       "0    0.729293\n",
       "1    0.463019\n",
       "2    0.400782\n",
       "3    0.396384\n",
       "4    0.378205\n",
       "5    0.367072\n",
       "6    0.345839\n",
       "7    0.338661\n",
       "8    0.327990\n",
       "9    0.307011\n",
       "Name: % Related, dtype: float64"
      ]
     },
     "execution_count": 19,
     "metadata": {},
     "output_type": "execute_result"
    }
   ],
   "source": [
    "result_frame[\"% Related\"]"
   ]
  },
  {
   "cell_type": "code",
   "execution_count": 20,
   "metadata": {},
   "outputs": [],
   "source": [
    "def detect_collisions(CI, gap=0.0):\n",
    "    '''\n",
    "    Attributes\n",
    "    -------------\n",
    "    str : The CI you'd like to detect collisons for\n",
    "    float  : The amount of relavence as a decimal you'd like to dispaly of KB articles \n",
    "                    - ie .30 = display articles within 30% relevance from the top article\n",
    "    '''\n",
    "    writer = pd.ExcelWriter('Collisions/' + CI + \".xlsx\")\n",
    "    for key,row in parsed_articles[parsed_articles['CI'].isin([CI])].iterrows():\n",
    "        result_frame = kb_predict(row['text'])\n",
    "        result_frame = result_frame[result_frame[\"% Related\"] <= result_frame.iloc[0][\"% Related\"]]\n",
    "        # If the frame length is equal to one pass on this kb at its most likely not a collision\n",
    "        frame_length = result_frame.shape[0]\n",
    "        if frame_length == 1:\n",
    "            continue\n",
    "        result_frame.to_excel(writer, sheet_name=row['kb_number'], index=False, encoding='utf-8')    \n",
    "        for i, col in enumerate(result_frame.columns):\n",
    "            # find length of column i\n",
    "            column_len = result_frame[col].astype(str).str.len().max()\n",
    "            # Setting the length if the column header is larger\n",
    "            # than the max column value length\n",
    "            column_len = max(column_len, len(col)) - 140\n",
    "            # set the column length\n",
    "            writer.sheets[row['kb_number']].set_column(i, i, column_len)\n",
    "            break\n",
    "    writer.save()"
   ]
  },
  {
   "cell_type": "code",
   "execution_count": 21,
   "metadata": {},
   "outputs": [
    {
     "data": {
      "text/html": [
       "<div>\n",
       "<style scoped>\n",
       "    .dataframe tbody tr th:only-of-type {\n",
       "        vertical-align: middle;\n",
       "    }\n",
       "\n",
       "    .dataframe tbody tr th {\n",
       "        vertical-align: top;\n",
       "    }\n",
       "\n",
       "    .dataframe thead th {\n",
       "        text-align: right;\n",
       "    }\n",
       "</style>\n",
       "<table border=\"1\" class=\"dataframe\">\n",
       "  <thead>\n",
       "    <tr style=\"text-align: right;\">\n",
       "      <th></th>\n",
       "      <th>KB</th>\n",
       "      <th>% Related</th>\n",
       "      <th>KB Number</th>\n",
       "    </tr>\n",
       "  </thead>\n",
       "  <tbody>\n",
       "    <tr>\n",
       "      <th>0</th>\n",
       "      <td>=HYPERLINK(\"https://bmsprod.service-now.com/nav_to.do?uri=%2Fkb_view.do%3Fsysparm_article%3DKB0044181%26sysparm_stack%3D%26sysparm_view%3D\",\"Attaching a file to a knowledge article\")</td>\n",
       "      <td>0.260569</td>\n",
       "      <td>KB0044181</td>\n",
       "    </tr>\n",
       "    <tr>\n",
       "      <th>1</th>\n",
       "      <td>=HYPERLINK(\"https://bmsprod.service-now.com/nav_to.do?uri=%2Fkb_view.do%3Fsysparm_article%3DKB0028987%26sysparm_stack%3D%26sysparm_view%3D\",\"User is unable to find the log file.\")</td>\n",
       "      <td>0.236576</td>\n",
       "      <td>KB0028987</td>\n",
       "    </tr>\n",
       "    <tr>\n",
       "      <th>2</th>\n",
       "      <td>=HYPERLINK(\"https://bmsprod.service-now.com/nav_to.do?uri=%2Fkb_view.do%3Fsysparm_article%3DKB0033740%26sysparm_stack%3D%26sysparm_view%3D\",\"Reviewing, rejecting, or approving an end user knowledge article\")</td>\n",
       "      <td>0.217518</td>\n",
       "      <td>KB0033740</td>\n",
       "    </tr>\n",
       "    <tr>\n",
       "      <th>3</th>\n",
       "      <td>=HYPERLINK(\"https://bmsprod.service-now.com/nav_to.do?uri=%2Fkb_view.do%3Fsysparm_article%3DKB0034157%26sysparm_stack%3D%26sysparm_view%3D\",\"RPM CAR attachments\")</td>\n",
       "      <td>0.214037</td>\n",
       "      <td>KB0034157</td>\n",
       "    </tr>\n",
       "    <tr>\n",
       "      <th>4</th>\n",
       "      <td>=HYPERLINK(\"https://bmsprod.service-now.com/nav_to.do?uri=%2Fkb_view.do%3Fsysparm_article%3DKB0033745%26sysparm_stack%3D%26sysparm_view%3D\",\"Creating parent-child knowledge articles\")</td>\n",
       "      <td>0.209570</td>\n",
       "      <td>KB0033745</td>\n",
       "    </tr>\n",
       "    <tr>\n",
       "      <th>5</th>\n",
       "      <td>=HYPERLINK(\"https://bmsprod.service-now.com/nav_to.do?uri=%2Fkb_view.do%3Fsysparm_article%3DKB0042366%26sysparm_stack%3D%26sysparm_view%3D\",\"ASM Guide to requesting access for Maximo users\")</td>\n",
       "      <td>0.206410</td>\n",
       "      <td>KB0042366</td>\n",
       "    </tr>\n",
       "    <tr>\n",
       "      <th>6</th>\n",
       "      <td>=HYPERLINK(\"https://bmsprod.service-now.com/nav_to.do?uri=%2Fkb_view.do%3Fsysparm_article%3DKB0030436%26sysparm_stack%3D%26sysparm_view%3D\",\"PRISM - CARA 3 :How to open the file when the file format does not match error \")</td>\n",
       "      <td>0.201877</td>\n",
       "      <td>KB0030436</td>\n",
       "    </tr>\n",
       "    <tr>\n",
       "      <th>7</th>\n",
       "      <td>=HYPERLINK(\"https://bmsprod.service-now.com/nav_to.do?uri=%2Fkb_view.do%3Fsysparm_article%3DKB0034448%26sysparm_stack%3D%26sysparm_view%3D\",\"ASM: Requesting Access ARMED at BMS\")</td>\n",
       "      <td>0.200929</td>\n",
       "      <td>KB0034448</td>\n",
       "    </tr>\n",
       "    <tr>\n",
       "      <th>8</th>\n",
       "      <td>=HYPERLINK(\"https://bmsprod.service-now.com/nav_to.do?uri=%2Fkb_view.do%3Fsysparm_article%3DKB0028491%26sysparm_stack%3D%26sysparm_view%3D\",\"How to add an IP address to a CI in the vitalize SACM CMDB\")</td>\n",
       "      <td>0.197660</td>\n",
       "      <td>KB0028491</td>\n",
       "    </tr>\n",
       "    <tr>\n",
       "      <th>9</th>\n",
       "      <td>=HYPERLINK(\"https://bmsprod.service-now.com/nav_to.do?uri=%2Fkb_view.do%3Fsysparm_article%3DKB0044932%26sysparm_stack%3D%26sysparm_view%3D\",\"How to use MIGO_TR to perform Place in Storage Material Document in SAP\")</td>\n",
       "      <td>0.196844</td>\n",
       "      <td>KB0044932</td>\n",
       "    </tr>\n",
       "  </tbody>\n",
       "</table>\n",
       "</div>"
      ],
      "text/plain": [
       "                                                                                                                                                                                                                               KB  \\\n",
       "0  =HYPERLINK(\"https://bmsprod.service-now.com/nav_to.do?uri=%2Fkb_view.do%3Fsysparm_article%3DKB0044181%26sysparm_stack%3D%26sysparm_view%3D\",\"Attaching a file to a knowledge article\")                                           \n",
       "1  =HYPERLINK(\"https://bmsprod.service-now.com/nav_to.do?uri=%2Fkb_view.do%3Fsysparm_article%3DKB0028987%26sysparm_stack%3D%26sysparm_view%3D\",\"User is unable to find the log file.\")                                              \n",
       "2  =HYPERLINK(\"https://bmsprod.service-now.com/nav_to.do?uri=%2Fkb_view.do%3Fsysparm_article%3DKB0033740%26sysparm_stack%3D%26sysparm_view%3D\",\"Reviewing, rejecting, or approving an end user knowledge article\")                  \n",
       "3  =HYPERLINK(\"https://bmsprod.service-now.com/nav_to.do?uri=%2Fkb_view.do%3Fsysparm_article%3DKB0034157%26sysparm_stack%3D%26sysparm_view%3D\",\"RPM CAR attachments\")                                                               \n",
       "4  =HYPERLINK(\"https://bmsprod.service-now.com/nav_to.do?uri=%2Fkb_view.do%3Fsysparm_article%3DKB0033745%26sysparm_stack%3D%26sysparm_view%3D\",\"Creating parent-child knowledge articles\")                                          \n",
       "5  =HYPERLINK(\"https://bmsprod.service-now.com/nav_to.do?uri=%2Fkb_view.do%3Fsysparm_article%3DKB0042366%26sysparm_stack%3D%26sysparm_view%3D\",\"ASM Guide to requesting access for Maximo users\")                                   \n",
       "6  =HYPERLINK(\"https://bmsprod.service-now.com/nav_to.do?uri=%2Fkb_view.do%3Fsysparm_article%3DKB0030436%26sysparm_stack%3D%26sysparm_view%3D\",\"PRISM - CARA 3 :How to open the file when the file format does not match error \")   \n",
       "7  =HYPERLINK(\"https://bmsprod.service-now.com/nav_to.do?uri=%2Fkb_view.do%3Fsysparm_article%3DKB0034448%26sysparm_stack%3D%26sysparm_view%3D\",\"ASM: Requesting Access ARMED at BMS\")                                               \n",
       "8  =HYPERLINK(\"https://bmsprod.service-now.com/nav_to.do?uri=%2Fkb_view.do%3Fsysparm_article%3DKB0028491%26sysparm_stack%3D%26sysparm_view%3D\",\"How to add an IP address to a CI in the vitalize SACM CMDB\")                        \n",
       "9  =HYPERLINK(\"https://bmsprod.service-now.com/nav_to.do?uri=%2Fkb_view.do%3Fsysparm_article%3DKB0044932%26sysparm_stack%3D%26sysparm_view%3D\",\"How to use MIGO_TR to perform Place in Storage Material Document in SAP\")           \n",
       "\n",
       "   % Related  KB Number  \n",
       "0  0.260569   KB0044181  \n",
       "1  0.236576   KB0028987  \n",
       "2  0.217518   KB0033740  \n",
       "3  0.214037   KB0034157  \n",
       "4  0.209570   KB0033745  \n",
       "5  0.206410   KB0042366  \n",
       "6  0.201877   KB0030436  \n",
       "7  0.200929   KB0034448  \n",
       "8  0.197660   KB0028491  \n",
       "9  0.196844   KB0044932  "
      ]
     },
     "execution_count": 21,
     "metadata": {},
     "output_type": "execute_result"
    }
   ],
   "source": [
    "for key,row in parsed_articles[parsed_articles['CI'].isin(['Interact - Latam and BR'])].iterrows():\n",
    "    result_frame = kb_predict(row['text'])\n",
    "    result_frame = result_frame[result_frame[\"% Related\"] <= result_frame.iloc[0][\"% Related\"]]\n",
    "result_frame"
   ]
  },
  {
   "cell_type": "code",
   "execution_count": 23,
   "metadata": {},
   "outputs": [],
   "source": [
    "detect_collisions('Interact - US')\n",
    "detect_collisions('Interact - EMEA')\n",
    "detect_collisions('Interact Events Management - LATAM')\n",
    "detect_collisions('Interact Events Management - EMEA')\n",
    "detect_collisions('Interact - Latam and BR')\n",
    "detect_collisions('Interact - APAC')"
   ]
  },
  {
   "cell_type": "code",
   "execution_count": 24,
   "metadata": {},
   "outputs": [],
   "source": [
    "detect_collisions('Interact - Latam and BR')"
   ]
  },
  {
   "cell_type": "code",
   "execution_count": 25,
   "metadata": {},
   "outputs": [],
   "source": [
    "detect_collisions('Dynamic Security Code')\n",
    "detect_collisions('TRAVEL--CONCUR TRAVEL')\n",
    "detect_collisions('ECLIPSE CORE')\n",
    "detect_collisions('Chemistry Research Electronic Laboratory  Notebook')"
   ]
  },
  {
   "cell_type": "code",
   "execution_count": 26,
   "metadata": {},
   "outputs": [
    {
     "data": {
      "text/plain": [
       "array(['VITALIZE DEMAND', 'ECLIPSE CORE', 'eSlide Manager Loader',\n",
       "       'Metro', 'PLANNING AND RESOURCE MANAGEMENT',\n",
       "       'JAVA WEB-ENABLED INTEGRATED REVIEW', 'eSetup',\n",
       "       'Outlook Email and Calendar',\n",
       "       'Chemistry Research Electronic Laboratory  Notebook',\n",
       "       'Compound Request', 'Print AnyWhere EMEA', 'Athena - SalesForce',\n",
       "       'TIAMO', 'Whitepages', 'MOVE IT', 'Interact - APAC',\n",
       "       'SALES & MKTG DATA WAREHOUSE', 'BMS ChemTools', 'BIOBOOK',\n",
       "       'MANAGEMENT ANALYSIS AND REPORTING SYSTEM', 'DATA LOAD SYSTEM',\n",
       "       'PRISM - CARA', 'The BMS Yammer Network',\n",
       "       'Telephone and Voicemail', 'Dynamic Security Code',\n",
       "       'Data Quality Monitoring', 'INVESTIGATOR PORTAL', 'GRAB',\n",
       "       'Internet Explorer', 'MaxEAM - Maximo Enterprise Asset Management',\n",
       "       'GLOBAL CLINICAL SITE MONITORING',\n",
       "       'ELECTRONIC SUPPLEMENTAL NOTEBOOK', 'SAP-Manufacturing', 'PDLIMS',\n",
       "       'Electronic Trial Master File', 'Geneious Application',\n",
       "       'Successfactors LMS', 'BMS PKI',\n",
       "       'Interact Events Management - EMEA', 'BMS Ideation Campaigns',\n",
       "       'AirWatch', 'SERVICENOW', 'ONELOOK SPECIALTY',\n",
       "       'vitalize Knowledge Management', 'C-SCOR Japan Field Reporting',\n",
       "       'SAP GUI', 'PWDVNVELQUEST01', 'eTime', 'RECORDS MANAGEMENT (CM)',\n",
       "       'Identity Creation', 'VITALIZE CONFIGURATION (CMDB)',\n",
       "       'SharePoint Online', 'Guest Wireless Service (Wi-Fi)',\n",
       "       'PUBD APPLICATION', 'EMPOWER 3 ENTERPRISE', 'Interact - US',\n",
       "       'SAP FDG Platform', 'FastTrack (NRDG)', 'eCOMP',\n",
       "       'Shared Folders (MyShares)', 'CLINICAL TRIALS DISCLOSURE',\n",
       "       'Enterprise Syncade', 'PASSWORD MANAGEMENT (PSYNCH)',\n",
       "       'GMS Proofreading', 'eSlide Manager',\n",
       "       'Interact Events Management - LATAM', 'LASERS',\n",
       "       'Clinical Trial Navigator', 'Skype for Business',\n",
       "       'SAP RESOURCE AND PORTFOLIO MGMT',\n",
       "       'Desktop Application Packaging and Distribution', 'VELQUEST',\n",
       "       'PRI STAFFING DATABASE', 'GTS  (on QUMAS platform)', 'Qstream',\n",
       "       'STANDARDIZED SAMPLEMANAGER LIMS - AMERICAS', 'Office',\n",
       "       'Microsoft Sway', 'Chrome',\n",
       "       'Asset Reliability and Maintenance Excellence Reporting',\n",
       "       'OneDrive For Business', 'ENT RT REPORTS',\n",
       "       'SAP-Sales and Distribution', 'email trigger',\n",
       "       'STUDY MANAGEMENT TOOLS_SMT', 'WATSON DRUG METABOLISM LIMS',\n",
       "       'Interact - EMEA', 'GDMA PUBLICATION MANAGEMENT', 'VS Track III',\n",
       "       'Athena - Author-it', '411.BMS.COM', 'Conference Room Scheduling',\n",
       "       'Nomad', 'SYMYX ELN', 'SAP-Expenditures/AP/AR/Bank & Cash ',\n",
       "       'FLOWJO', 'FREEZERWORKS', 'ChemReg', 'INSTANT JCHEM',\n",
       "       'Business Wireless Service (Wi-Fi)',\n",
       "       'Personal Computers and Device Standards', 'NEXUS',\n",
       "       'PLANNING BUDGETING AND PROJECTIONS', 'RUNMASTER', 'DVNCMB-DELTAV',\n",
       "       'BioRails Request ', 'ECLIPSE REPORTING',\n",
       "       'Komodo - Multiple Myeloma', 'AWS Workspaces', 'VITALIZE CHANGE',\n",
       "       'System Center Configuration Manager (SCCM)',\n",
       "       'TW&HK WORKFLOW MANAGEMENT', 'VITALIZE RELEASE',\n",
       "       'Multiparty Video in Skype for Business',\n",
       "       'Histology Request System', 'Dashboard Awareness Safety Hub',\n",
       "       'Field Service Desk', 'eRoster', 'Scientific Search', 'iO US',\n",
       "       'Microsoft Office (Access, Excel, InfoPath, PowerPoint, Publisher and Word)',\n",
       "       'PDHQ', 'STANDARDIZED SAMPLEMANAGER LIMS12 - AMERICAS',\n",
       "       'NEO Mobile', 'MICROSOFT EXCHANGE', 'SEARCH2.BMS.COM',\n",
       "       'KNECTION WS', 'SHIPPING DOCUMENTS 2.5',\n",
       "       'SurveyMonkey (BMS Survey Service)', 'RightFax 16.2 US',\n",
       "       'Operator-Assisted Audio Conferencing', 'aCoach - NA',\n",
       "       'DOCUMENT IMAGING MANAGEMENT SYSTEM',\n",
       "       'eSubMIT - InSight Validator', 'Windows', 'RPP', 'Print AnyWhere ',\n",
       "       'IXOS USA', 'Print Services', 'OneNote',\n",
       "       'SAP PRODUCTIVITY PAK GLOBAL', 'JChem for Office', 'Verity',\n",
       "       'VITALIZE REQUEST/SERVICE CATALOG', 'PROVANTIS', 'AGILEDOC',\n",
       "       'CaRT PEGA', 'PRISM - CoreTemplate',\n",
       "       'Electronic Data Management (eDM)', 'BMS-TV Live Streaming',\n",
       "       'PCWEB PROTEIN CHEMISTRY APPLICATION',\n",
       "       'VITALIZE SERVICE LEVEL (SLM)', 'ChemBioOffice',\n",
       "       'SAP BUSINESS WAREHOUSE (BW)', 'QUMAS PLATFORM', 'BioRails BioReg',\n",
       "       'Acrobat', 'TRACKWISE - PDQMS',\n",
       "       'RESEARCH ELECTRONIC LABORATORY NOTEBOOK',\n",
       "       'CMEH - CUSTOMER MASTER EXCHANGE HUB', 'Athena - Vault',\n",
       "       'Working Smarter', 'PointSec Encryption Software', 'Mac OS',\n",
       "       'RECONFIGURABLE INTERACTIVE VOICE RESPONSE SYSTEM',\n",
       "       'Kronos Time and Attendance', 'Fleet Administration System',\n",
       "       'BIOSTORE', 'ThinkVantage Access Connections', 'WinZip',\n",
       "       'SAP - C4C / Hybris Cloud', 'Tableau Server', 'BioRails Inventory',\n",
       "       'SEQUENCHER', 'Kronos Mobile ', 'GAME 2.6',\n",
       "       'Oracle Clinical Electronic Data Capture',\n",
       "       'DISCOVERANT  - GMS - LARGE MOLECULE', 'NEO OnLine',\n",
       "       'BMS-TV Streaming VIdeo', 'SAP-Quality Management', 'PD CIMS',\n",
       "       'BMS TRAVEL JAPAN', 'SAP Analytics HANA',\n",
       "       'PROCEDURE REQUEST SYSTEM',\n",
       "       'INTELLIGENT OPTICAL CHARACTER RECOGNITION', 'DOCMAN',\n",
       "       'MaxEAM - Mobile', 'eSubMIT - InSight for Viewing',\n",
       "       'IT Employee Discount Programs', 'EPOCH',\n",
       "       'Application for Requesting Invivo Assay', 'File Print',\n",
       "       'CMEH - CUSTOMER ADMINISTRATION TOOL',\n",
       "       'Clinical Trial Registration & Results',\n",
       "       'Reservationless-Plus Audio Conferencing', 'TRACE3',\n",
       "       'VITALIZE INCIDENT', 'PHARMA PERFORMANCE MANAGER (PPM)',\n",
       "       'Field Force Link', 'External Partner Services',\n",
       "       'Electronic Secure Data Room', 'SAP', 'East', 'WEBCOM3',\n",
       "       'aCoach - APAC', 'Rave', 'PEDAGOGUE',\n",
       "       'SAP GOVERNANCE RISK AND COMPLIANCE', 'TOOLSET',\n",
       "       'Interact - Latam and BR', 'Password Management',\n",
       "       'NextGen EU Labeling SDL GroupShare',\n",
       "       'Software as a Service - (SaaS) Procurement', 'Interact - China',\n",
       "       'PILOTCLEAN', 'MEDUSAWEB', 'ECLIPSE', 'Geofluent',\n",
       "       'Worldwide Congress & Meetings',\n",
       "       'SAP & Global Business Applications Service Desk', 'APEX',\n",
       "       'Cisco AnyConnect', 'IRIS', 'EMBARC ELECTRONIC SUBMISSIONS',\n",
       "       'eSubMIT - InSight Publisher', 'SAP SOLUTION MANAGER',\n",
       "       'Performance@BMS / Intrepid Platform',\n",
       "       'Print AnyWhere US\\\\LAT\\\\CAN', 'PLA 3',\n",
       "       'Desktop Video and Audio Skype for Business (Lync)',\n",
       "       'BMS IDENTITY REGISTRATION TOOL (BIRT)',\n",
       "       'Vablet - Field Force Communication',\n",
       "       'Internet Explorer and Other Web Browsers', 'Smashfly', 'PubOne',\n",
       "       'IT Concierge', 'SFTP', 'eSubMIT - FDA ESG',\n",
       "       'China Wechat Management Platform - IO', 'Assignment Pro',\n",
       "       'GRANT OF AUTHORITY WEB APPLICATION', 'CYBRARY SHAREPOINT',\n",
       "       'VITALIZE PERFORMANCE ANALYTICS (PA)', 'SYNCADE DEVENS',\n",
       "       'Ariba S2P', 'Medical Insights', 'EPORTAL',\n",
       "       'Enterprise Syncade-Humacao', 'eSubMIT', 'HP OUTPUT MANAGEMENT',\n",
       "       'OFFICE365 ONLINE', 'AlignONE - US/PR', 'CORRIGO Webapp',\n",
       "       'TIBCO Spotfire', 'synakene', 'Flash Player', 'mylife@bms',\n",
       "       'SAP-Planning', 'OnePager Pro', 'JAPAN TRANSPARENCY', 'ADIWEB',\n",
       "       'SEARCH.BMS.COM', 'IDENTITY MANAGEMENT MANAGER REVIEW', 'DataPro',\n",
       "       'SAP GLOBAL TRADE SERVICES', 'ROCP1', 'PARTNER PORTAL',\n",
       "       'NUGENESIS SDMS FOR R AND D', 'HyBizz!', 'DEVLIMS',\n",
       "       'SAP ADVANCED TRACK AND TRACE FOR PHARMA ',\n",
       "       'ENT PI TEMPLATE SERVER', 'iMedidata', 'SILVER',\n",
       "       'China Wechat Management Platform - Virology Service Account ',\n",
       "       'ENTERPRISE DIRECTORY', 'DSPCO WAREHOUSE', 'PD LIMS',\n",
       "       'Email Group Management ', 'ADP Global Payroll',\n",
       "       'Conference Room and Equipment Scheduling',\n",
       "       'eSubMIT - Fillable Forms', 'eSubMIT - EMA Submission Gateway',\n",
       "       'Adobe Connect - Commercial ', 'SAP-Purchasing ',\n",
       "       'Network Print, Copy, Fax and Scan Services',\n",
       "       'PAMS - PK PD ANALYSIS AND MODELING SYSTEM', 'Kaizen For Pharma',\n",
       "       'HCP Connect', 'MyBenefits.BMS.com', 'Lynda.com',\n",
       "       'Citrix ICA Client', 'Bravo', 'ChemDraw Professional',\n",
       "       'Tableau Server - EU', 'PLANT INFORMATION', 'DOCIT',\n",
       "       'RDO DATA HUB', 'ComplyScore – Third Party Due Diligence',\n",
       "       'Informatica PowerCenter XDivision Hub', 'ACTIVEMQ', 'TM1 TAIWAN',\n",
       "       'Thesaurus Management System',\n",
       "       'DOCUMENT CONTROL & ARCHIVING - SWORDS', 'PDLIMS Online Reports',\n",
       "       'Athena', 'Workday', 'RightFax 16.2 EMEA', 'PIQET',\n",
       "       'China WeChat EA', 'Room Based Video Conferencing',\n",
       "       'TEMPTALE MANAGER DESKTOP', 'NBR RTREPORTS', 'MODA',\n",
       "       'HP OPENVIEW OPERATIONS MANAGER I',\n",
       "       'TRACKWISE QUALITY MANAGEMENT SYSTEM',\n",
       "       'MaxEAM - Bulk Record Import Export (BRIE)', 'Darwin',\n",
       "       'Office365 SharePoint Sites', 'Print AnyWhere Redwood City',\n",
       "       'TRAVEL--CONCUR TRAVEL', 'FlowJo',\n",
       "       'Immersive Telepresence Video Conference',\n",
       "       'PROCESS ANALYTICAL TECHNOLOGY DATA MANAGEMENT',\n",
       "       'VITALIZE PROBLEM', 'Kaizen Pharma', 'FRESCO',\n",
       "       'DMC WORKFLOW APPLICATION', 'Device Management', 'Terminus 3',\n",
       "       'Building Automation System -Devens', 'BMS-TV On Demand', 'SOME ',\n",
       "       'Network Printing', 'BEELINE',\n",
       "       'VETERINARY CLINICAL DIAGNOSTIC LIMS',\n",
       "       'C-SCOR Germany Field Reporting', 'USHPWVRASQLP01',\n",
       "       'Adobe Creative Suite Service', 'REES NBR ARD', 'myCOMP',\n",
       "       'Paperless Employee', 'STANDARDIZED SAMPLEMANAGER LIMS12 - EUROPE',\n",
       "       'REISEKOSTEN AT', 'PHA PRO', 'Technical Event Production TPT',\n",
       "       'NGA US/PR/Canada Payroll',\n",
       "       'STANDARDIZED SAMPLEMANAGER LIMS12 - ASIAPAC', 'Inkling'],\n",
       "      dtype=object)"
      ]
     },
     "execution_count": 26,
     "metadata": {},
     "output_type": "execute_result"
    }
   ],
   "source": [
    "parsed_articles['CI'].unique()"
   ]
  }
 ],
 "metadata": {
  "celltoolbar": "Attachments",
  "kernelspec": {
   "display_name": "Python 3",
   "language": "python",
   "name": "python3"
  },
  "language_info": {
   "codemirror_mode": {
    "name": "ipython",
    "version": 3
   },
   "file_extension": ".py",
   "mimetype": "text/x-python",
   "name": "python",
   "nbconvert_exporter": "python",
   "pygments_lexer": "ipython3",
   "version": "3.7.1"
  },
  "latex_envs": {
   "LaTeX_envs_menu_present": true,
   "autoclose": false,
   "autocomplete": true,
   "bibliofile": "biblio.bib",
   "cite_by": "apalike",
   "current_citInitial": 1,
   "eqLabelWithNumbers": true,
   "eqNumInitial": 1,
   "hotkeys": {
    "equation": "Ctrl-E",
    "itemize": "Ctrl-I"
   },
   "labels_anchors": false,
   "latex_user_defs": false,
   "report_style_numbering": false,
   "user_envs_cfg": false
  },
  "notify_time": "5",
  "varInspector": {
   "cols": {
    "lenName": 16,
    "lenType": 16,
    "lenVar": 40
   },
   "kernels_config": {
    "python": {
     "delete_cmd_postfix": "",
     "delete_cmd_prefix": "del ",
     "library": "var_list.py",
     "varRefreshCmd": "print(var_dic_list())"
    },
    "r": {
     "delete_cmd_postfix": ") ",
     "delete_cmd_prefix": "rm(",
     "library": "var_list.r",
     "varRefreshCmd": "cat(var_dic_list()) "
    }
   },
   "types_to_exclude": [
    "module",
    "function",
    "builtin_function_or_method",
    "instance",
    "_Feature"
   ],
   "window_display": false
  }
 },
 "nbformat": 4,
 "nbformat_minor": 2
}
